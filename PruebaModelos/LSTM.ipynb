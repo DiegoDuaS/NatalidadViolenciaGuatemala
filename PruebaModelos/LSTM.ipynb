{
 "cells": [
  {
   "cell_type": "markdown",
   "id": "22faefcf",
   "metadata": {},
   "source": [
    "## Proyecto 3. Entrega 3\n",
    "### LSTM\n",
    "Diego Duarte 22075 - José Marchena 22398 - Andrés Kou 22305 - Esteban Zambrano 22119"
   ]
  },
  {
   "cell_type": "code",
   "execution_count": 1,
   "id": "061b56f8",
   "metadata": {},
   "outputs": [],
   "source": [
    "import pandas as pd\n",
    "import LSTM\n",
    "import numpy as np\n",
    "\n",
    "# Cargar el archivo CSV\n",
    "csv_path = \"../DataFinal.csv\"\n",
    "df = pd.read_csv(csv_path)"
   ]
  },
  {
   "cell_type": "code",
   "execution_count": 2,
   "id": "69cd0701",
   "metadata": {},
   "outputs": [
    {
     "name": "stdout",
     "output_type": "stream",
     "text": [
      "(114, 3, 20)\n",
      "(114,)\n"
     ]
    }
   ],
   "source": [
    "n_lags = 3  # Usaremos los 3 años previos\n",
    "X, y = LSTM.preparar_series_lstm(df, n_lags)\n",
    "\n",
    "# Revisar las dimensiones de X e y\n",
    "print(X.shape)  # Esto debería ser (n_samples, 3, n_features)\n",
    "print(y.shape)  \n",
    "\n",
    "\n"
   ]
  },
  {
   "cell_type": "code",
   "execution_count": 3,
   "id": "afe1d400",
   "metadata": {},
   "outputs": [
    {
     "name": "stdout",
     "output_type": "stream",
     "text": [
      "(91, 3, 20) (23, 3, 20)\n",
      "(91,) (23,)\n"
     ]
    }
   ],
   "source": [
    "from sklearn.model_selection import train_test_split\n",
    "\n",
    "# Dividir en entrenamiento y prueba (sin mezclar las secuencias)\n",
    "X_train, X_test, y_train, y_test = train_test_split(X, y, test_size=0.2, shuffle=False)\n",
    "\n",
    "# Ver las formas de los datos\n",
    "print(X_train.shape, X_test.shape)\n",
    "print(y_train.shape, y_test.shape)"
   ]
  },
  {
   "cell_type": "code",
   "execution_count": 4,
   "id": "f0a29a3d",
   "metadata": {},
   "outputs": [],
   "source": [
    "X_train = X_train.astype(np.float32)\n",
    "y_train = y_train.astype(np.float32)\n",
    "X_test = X_test.astype(np.float32)\n",
    "y_test = y_test.astype(np.float32)\n"
   ]
  },
  {
   "cell_type": "code",
   "execution_count": null,
   "id": "9a325b56",
   "metadata": {},
   "outputs": [],
   "source": [
    "import torch\n",
    "import torch.nn as nn\n",
    "import torch.optim as optim\n",
    "from torch.utils.data import DataLoader, TensorDataset\n",
    "from sklearn.preprocessing import StandardScaler\n",
    "\n",
    "# Normalizar X_train, X_test, y_train, y_test\n",
    "scaler_X = StandardScaler()\n",
    "scaler_y = StandardScaler()\n",
    "\n",
    "X_train_scaled = scaler_X.fit_transform(X_train.reshape(-1, X_train.shape[-1]))\n",
    "X_test_scaled = scaler_X.transform(X_test.reshape(-1, X_test.shape[-1]))\n",
    "\n",
    "y_train_scaled = scaler_y.fit_transform(y_train.reshape(-1, 1))\n",
    "y_test_scaled = scaler_y.transform(y_test.reshape(-1, 1))\n",
    "\n",
    "# Convertir los datos normalizados a tensores de PyTorch\n",
    "X_train_tensor = torch.tensor(X_train_scaled, dtype=torch.float32).view(-1, X_train.shape[1], X_train.shape[2])\n",
    "X_test_tensor = torch.tensor(X_test_scaled, dtype=torch.float32).view(-1, X_test.shape[1], X_test.shape[2])\n",
    "y_train_tensor = torch.tensor(y_train_scaled, dtype=torch.float32)\n",
    "y_test_tensor = torch.tensor(y_test_scaled, dtype=torch.float32)\n",
    "\n",
    "# Crear dataloaders\n",
    "train_data = TensorDataset(X_train_tensor, y_train_tensor)\n",
    "test_data = TensorDataset(X_test_tensor, y_test_tensor)\n",
    "\n",
    "train_loader = DataLoader(train_data, batch_size=32, shuffle=False)\n",
    "test_loader = DataLoader(test_data, batch_size=32, shuffle=False)\n"
   ]
  },
  {
   "cell_type": "code",
   "execution_count": 6,
   "id": "2f5f212e",
   "metadata": {},
   "outputs": [],
   "source": [
    "# Definir parámetros\n",
    "input_size = X_train.shape[2]  # El número de características (columnas de VI)\n",
    "hidden_size = 64  # Puedes ajustar este valor\n",
    "num_layers = 2  # Puedes ajustar este valor\n",
    "\n",
    "# Inicializar el modelo\n",
    "model = LSTM.LSTMModel(input_size=input_size, hidden_size=hidden_size, num_layers=num_layers)\n",
    "\n",
    "# Definir la función de pérdida (MSE) y el optimizador (Adam)\n",
    "criterion = nn.MSELoss()\n",
    "optimizer = optim.Adam(model.parameters(), lr=0.001)\n"
   ]
  },
  {
   "cell_type": "code",
   "execution_count": 7,
   "id": "0628efba",
   "metadata": {},
   "outputs": [
    {
     "ename": "NameError",
     "evalue": "name 'train_loader' is not defined",
     "output_type": "error",
     "traceback": [
      "\u001b[1;31m---------------------------------------------------------------------------\u001b[0m",
      "\u001b[1;31mNameError\u001b[0m                                 Traceback (most recent call last)",
      "Cell \u001b[1;32mIn[7], line 9\u001b[0m\n\u001b[0;32m      6\u001b[0m model\u001b[38;5;241m.\u001b[39mtrain()  \u001b[38;5;66;03m# Establecer el modelo en modo entrenamiento\u001b[39;00m\n\u001b[0;32m      7\u001b[0m running_loss \u001b[38;5;241m=\u001b[39m \u001b[38;5;241m0.0\u001b[39m\n\u001b[1;32m----> 9\u001b[0m \u001b[38;5;28;01mfor\u001b[39;00m i, (inputs, labels) \u001b[38;5;129;01min\u001b[39;00m \u001b[38;5;28menumerate\u001b[39m(\u001b[43mtrain_loader\u001b[49m):\n\u001b[0;32m     10\u001b[0m     \u001b[38;5;66;03m# Enviar los datos a GPU si está disponible\u001b[39;00m\n\u001b[0;32m     11\u001b[0m     inputs, labels \u001b[38;5;241m=\u001b[39m inputs\u001b[38;5;241m.\u001b[39mto(device), labels\u001b[38;5;241m.\u001b[39mto(device)\n\u001b[0;32m     13\u001b[0m     \u001b[38;5;66;03m# Reiniciar los gradientes de los optimizadores\u001b[39;00m\n",
      "\u001b[1;31mNameError\u001b[0m: name 'train_loader' is not defined"
     ]
    }
   ],
   "source": [
    "num_epochs = 50  # Número de épocas\n",
    "device = torch.device('cuda' if torch.cuda.is_available() else 'cpu')\n",
    "\n",
    "\n",
    "for epoch in range(num_epochs):\n",
    "    model.train()  # Establecer el modelo en modo entrenamiento\n",
    "    running_loss = 0.0\n",
    "\n",
    "    for i, (inputs, labels) in enumerate(train_loader):\n",
    "        # Enviar los datos a GPU si está disponible\n",
    "        inputs, labels = inputs.to(device), labels.to(device)\n",
    "        \n",
    "        # Reiniciar los gradientes de los optimizadores\n",
    "        optimizer.zero_grad()\n",
    "\n",
    "        # Hacer una predicción\n",
    "        outputs = model(inputs)\n",
    "\n",
    "        # Calcular la pérdida\n",
    "        loss = criterion(outputs, labels)\n",
    "        \n",
    "        # Propagar hacia atrás (backpropagation)\n",
    "        loss.backward()\n",
    "        \n",
    "        # Actualizar los parámetros\n",
    "        optimizer.step()\n",
    "\n",
    "        running_loss += loss.item()\n",
    "\n",
    "    print(f\"Epoch [{epoch+1}/{num_epochs}], Loss: {running_loss/len(train_loader):.4f}\")\n"
   ]
  },
  {
   "cell_type": "code",
   "execution_count": null,
   "id": "acb07bb2",
   "metadata": {},
   "outputs": [
    {
     "name": "stdout",
     "output_type": "stream",
     "text": [
      "Predicciones: [[14.559048]\n",
      " [14.561024]\n",
      " [14.561024]\n",
      " [14.561024]\n",
      " [14.561024]]\n",
      "Valores reales: [[5.7213e+04]\n",
      " [3.0783e+04]\n",
      " [9.1610e+03]\n",
      " [6.0300e+02]\n",
      " [2.7000e+01]]\n"
     ]
    }
   ],
   "source": [
    "model.eval()  # Establecer el modelo en modo evaluación\n",
    "with torch.no_grad():  # No necesitamos calcular los gradientes durante la evaluación\n",
    "    y_pred = []\n",
    "    y_true = []\n",
    "    for inputs, labels in test_loader:\n",
    "        inputs, labels = inputs.to(device), labels.to(device)\n",
    "        \n",
    "        # Hacer predicción\n",
    "        outputs = model(inputs)\n",
    "        \n",
    "        # Almacenar las predicciones y los valores verdaderos\n",
    "        y_pred.append(outputs.cpu().numpy())\n",
    "        y_true.append(labels.cpu().numpy())\n",
    "    \n",
    "    y_pred = np.concatenate(y_pred, axis=0)\n",
    "    y_true = np.concatenate(y_true, axis=0)\n",
    "\n",
    "# Comparar las predicciones con los valores verdaderos\n",
    "print(f\"Predicciones: {y_pred[:5]}\")\n",
    "print(f\"Valores reales: {y_true[:5]}\")\n"
   ]
  }
 ],
 "metadata": {
  "kernelspec": {
   "display_name": "Python 3",
   "language": "python",
   "name": "python3"
  },
  "language_info": {
   "codemirror_mode": {
    "name": "ipython",
    "version": 3
   },
   "file_extension": ".py",
   "mimetype": "text/x-python",
   "name": "python",
   "nbconvert_exporter": "python",
   "pygments_lexer": "ipython3",
   "version": "3.11.4"
  }
 },
 "nbformat": 4,
 "nbformat_minor": 5
}
